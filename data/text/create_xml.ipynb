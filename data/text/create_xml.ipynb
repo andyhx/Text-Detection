{
 "cells": [
  {
   "cell_type": "code",
   "execution_count": 1,
   "metadata": {},
   "outputs": [],
   "source": [
    "import xml.dom.minidom as Dom \n",
    "import os\n",
    "import numpy as np\n",
    "from PIL import Image\n",
    "import matplotlib.pyplot as plt # plt 用于显示图片\n",
    "%matplotlib inline"
   ]
  },
  {
   "cell_type": "code",
   "execution_count": 4,
   "metadata": {},
   "outputs": [],
   "source": [
    "def ar_count(root_dir,img_dir,txt_dir):       \n",
    "    for root, dirs, files in os.walk(os.path.join(root_dir,img_dir)):\n",
    "        all_ar=[];\n",
    "        #image path\n",
    "        for file in files:\n",
    "            image_name=file\n",
    "            label_name=file[0:-4]+'.txt'          \n",
    "            label_path=os.path.join(root_dir,txt_dir,label_name)\n",
    "            label=open(label_path,'r')            \n",
    "            first_line=True            \n",
    "            for line in label.readlines():\n",
    "                if first_line:\n",
    "                    line=line.decode('utf-8-sig').strip()\n",
    "                else:\n",
    "                    line=line.strip()\n",
    "                #print(line)\n",
    "                bbs=line.split(',')\n",
    "                x1=(float(bbs[0].encode(\"utf-8\")))\n",
    "                y1=(float(bbs[1].encode(\"utf-8\")))\n",
    "                \n",
    "                x2=(float(bbs[2].encode(\"utf-8\")))\n",
    "                y2=(float(bbs[3].encode(\"utf-8\")))\n",
    "                \n",
    "                x3=(float(bbs[4].encode(\"utf-8\")))\n",
    "                y3=(float(bbs[5].encode(\"utf-8\")))\n",
    "                \n",
    "                x4=(float(bbs[6].encode(\"utf-8\")))\n",
    "                y4=(float(bbs[7].encode(\"utf-8\")))\n",
    "                \n",
    "                d1=np.sqrt((x1-x2)**2+(y1-y2)**2)\n",
    "                d2=np.sqrt((x2-x3)**2+(y2-y3)**2)\n",
    "                ar=float(d1)/(float(d2))\n",
    "                if ar<1:\n",
    "                    ar=1/ar\n",
    "                all_ar.append(ar)\n",
    "                        \n",
    "            label.close()   \n",
    "    return all_ar"
   ]
  },
  {
   "cell_type": "code",
   "execution_count": 44,
   "metadata": {},
   "outputs": [],
   "source": [
    "def rota_count(root_dir,img_dir,txt_dir):       \n",
    "    for root, dirs, files in os.walk(os.path.join(root_dir,img_dir)):\n",
    "        all_angle=[];\n",
    "        #image path\n",
    "        for file in files:\n",
    "            image_name=file\n",
    "            label_name=file[0:-4]+'.txt'          \n",
    "            label_path=os.path.join(root_dir,txt_dir,label_name)\n",
    "            label=open(label_path,'r')            \n",
    "            first_line=True            \n",
    "            for line in label.readlines():\n",
    "                if first_line:\n",
    "                    line=line.decode('utf-8-sig').strip()\n",
    "                else:\n",
    "                    line=line.strip()\n",
    "                #print(line)\n",
    "                bbs=line.split(',')\n",
    "                x1=int(float(bbs[0].encode(\"utf-8\")))\n",
    "                y1=int(float(bbs[1].encode(\"utf-8\")))\n",
    "                \n",
    "                x2=int(float(bbs[2].encode(\"utf-8\")))\n",
    "                y2=int(float(bbs[3].encode(\"utf-8\")))\n",
    "                \n",
    "                x3=int(float(bbs[4].encode(\"utf-8\")))\n",
    "                y3=int(float(bbs[5].encode(\"utf-8\")))\n",
    "                \n",
    "                x4=int(float(bbs[6].encode(\"utf-8\")))\n",
    "                y4=int(float(bbs[7].encode(\"utf-8\")))\n",
    "                if x1==x2:\n",
    "                    angle=0\n",
    "                else:\n",
    "                    slope=(y2-y1)/(x2-x1)\n",
    "                    angle=np.abs(np.arctan(slope)*180/3.14)           \n",
    "                all_angle.append(angle)            \n",
    "            label.close()   \n",
    "    return all_angle"
   ]
  },
  {
   "cell_type": "code",
   "execution_count": 45,
   "metadata": {},
   "outputs": [],
   "source": [
    "def diff_count(root_dir,img_dir,txt_dir):   \n",
    "    diff_num=0;\n",
    "    easy_num=0\n",
    "    for root, dirs, files in os.walk(os.path.join(root_dir,img_dir)):\n",
    "        #image path\n",
    "        for file in files:\n",
    "            image_name=file\n",
    "            label_name=file[0:-4]+'.txt'          \n",
    "            label_path=os.path.join(root_dir,txt_dir,label_name)\n",
    "            label=open(label_path,'r')            \n",
    "            first_line=True            \n",
    "            for line in label.readlines():\n",
    "                if first_line:\n",
    "                    line=line.decode('utf-8-sig').strip()\n",
    "                else:\n",
    "                    line=line.strip()\n",
    "                #print(line)\n",
    "                bbs=line.split(',')                \n",
    "                content=bbs[8]\n",
    "                #print(content)\n",
    "                content=''.join(ch for ch in content if ch.isalnum())\n",
    "                content=content.upper()\n",
    "                if content=='':\n",
    "                    content='###'\n",
    "                    difficult='1'\n",
    "                    diff_num+=1\n",
    "                else:\n",
    "                    difficult='0'\n",
    "                    easy_num+=1               \n",
    "            label.close()   \n",
    "    print(\"diff \"+str(diff_num))\n",
    "    print(\"easy \"+str(easy_num))"
   ]
  },
  {
   "cell_type": "code",
   "execution_count": 46,
   "metadata": {},
   "outputs": [],
   "source": [
    "def create_xml_rotated_icdar13_train(root_dir, save_dir, generate_file,img_dir,txt_dir):\n",
    "    #root_dir\n",
    "    generate_list=open(generate_file,'wt')\n",
    "    #train_list=open('train.txt','wt')\n",
    "    #test_list=open('test.txt','wt')\n",
    "    count=0\n",
    "    for root, dirs, files in os.walk(os.path.join(root_dir,img_dir)):\n",
    "        #image path\n",
    "        for file in files:\n",
    "            image_name=file\n",
    "            label_name=file[0:-4]+'.txt'\n",
    "            image_path=os.path.join(root_dir,img_dir,image_name)\n",
    "            sub_dir='train_images'\n",
    "            #print(image_path)\n",
    "            I=Image.open(image_path)\n",
    "            image_width,image_height=I.size\n",
    "            label_path=os.path.join(root_dir,txt_dir,label_name)\n",
    "            label=open(label_path,'r')\n",
    "            doc = Dom.Document() \n",
    "            root_node=doc.createElement('annotation')\n",
    "            doc.appendChild(root_node)\n",
    "            folder_node=doc.createElement('folder')\n",
    "            folder_node_value=doc.createTextNode(sub_dir)\n",
    "            folder_node.appendChild(folder_node_value)\n",
    "            filename_node=doc.createElement('filename')\n",
    "            filename_value=doc.createTextNode(image_name)\n",
    "            filename_node.appendChild(filename_value)\n",
    "            size_node=doc.createElement('size')\n",
    "            root_node.appendChild(size_node)\n",
    "            width_node=doc.createElement('width')\n",
    "            width_value=doc.createTextNode(str(image_width))\n",
    "            width_node.appendChild(width_value)\n",
    "            height_node=doc.createElement('height')\n",
    "            height_value=doc.createTextNode(str(image_height))\n",
    "            height_node.appendChild(height_value)\n",
    "            depth_node=doc.createElement('depth')\n",
    "            depth_value=doc.createTextNode('3')\n",
    "            depth_node.appendChild(depth_value)\n",
    "            size_node.appendChild(width_node)\n",
    "            size_node.appendChild(height_node)\n",
    "            size_node.appendChild(depth_node)\n",
    "            first_line=True\n",
    "            count=0\n",
    "            for line in label.readlines():\n",
    "                if first_line:\n",
    "                    line=line.decode('utf-8-sig').strip()\n",
    "                else:\n",
    "                    line=line.strip()\n",
    "                #print(line)\n",
    "                bbs=line.split(',')\n",
    "                x1=int(float(bbs[0].encode(\"utf-8\")))\n",
    "                y1=int(float(bbs[1].encode(\"utf-8\")))\n",
    "                \n",
    "                x2=int(float(bbs[2].encode(\"utf-8\")))\n",
    "                y2=int(float(bbs[3].encode(\"utf-8\")))\n",
    "                \n",
    "                x3=int(float(bbs[4].encode(\"utf-8\")))\n",
    "                y3=int(float(bbs[5].encode(\"utf-8\")))\n",
    "                \n",
    "                x4=int(float(bbs[6].encode(\"utf-8\")))\n",
    "                y4=int(float(bbs[7].encode(\"utf-8\")))\n",
    "                loc=np.array([x1 ,y1 ,x2 ,y2 ,x3, y3, x4, y4])\n",
    "                loc_x=np.array([x1 ,x2 ,x3 ,x4])\n",
    "                loc_y=np.array([y1 ,y2 ,y3 ,y4])\n",
    "                \n",
    "                xmin=(min(x1,x2,x3,x4))\n",
    "                ymin=(min(y1,y2,y3,y4))\n",
    "                xmax=(max(x1,x2,x3,x4))\n",
    "                ymax=(max(y1,y2,y3,y4))\n",
    "                if(xmax-xmin>=ymax-ymin):\n",
    "                    #long aspect ratio\n",
    "                    idx=np.argsort(loc_x)\n",
    "                    if(loc_y[idx[0]]<=loc_y[idx[1]]):\n",
    "                        x1=loc_x[idx[0]]\n",
    "                        y1=loc_y[idx[0]]\n",
    "                        x4=loc_x[idx[1]]\n",
    "                        y4=loc_y[idx[1]]\n",
    "                    else:\n",
    "                        x1=loc_x[idx[1]]\n",
    "                        y1=loc_y[idx[1]]\n",
    "                        x4=loc_x[idx[0]]\n",
    "                        y4=loc_y[idx[0]]\n",
    "                    if(loc_y[idx[2]]<=loc_y[idx[3]]):\n",
    "                        x2=loc_x[idx[2]]\n",
    "                        y2=loc_y[idx[2]]\n",
    "                        x3=loc_x[idx[3]]\n",
    "                        y3=loc_y[idx[3]]\n",
    "                    else:\n",
    "                        x2=loc_x[idx[3]]\n",
    "                        y2=loc_y[idx[3]]\n",
    "                        x3=loc_x[idx[2]]\n",
    "                        y3=loc_y[idx[2]]\n",
    "                else:\n",
    "                    #short aspect ratio\n",
    "                    idx=np.argsort(loc_y)\n",
    "                    if(loc_x[idx[0]]<=loc_x[idx[1]]):\n",
    "                        x1=loc_x[idx[0]]\n",
    "                        y1=loc_y[idx[0]]\n",
    "                        x2=loc_x[idx[1]]\n",
    "                        y2=loc_y[idx[1]]\n",
    "                    else:\n",
    "                        x1=loc_x[idx[1]]\n",
    "                        y1=loc_y[idx[1]]\n",
    "                        x2=loc_x[idx[0]]\n",
    "                        y2=loc_y[idx[0]]\n",
    "                    if(loc_x[idx[2]]<=loc_x[idx[3]]):\n",
    "                        x4=loc_x[idx[2]]\n",
    "                        y4=loc_y[idx[2]]\n",
    "                        x3=loc_x[idx[3]]\n",
    "                        y3=loc_y[idx[3]]\n",
    "                    else:\n",
    "                        x4=loc_x[idx[3]]\n",
    "                        y4=loc_y[idx[3]]\n",
    "                        x3=loc_x[idx[2]]\n",
    "                        y3=loc_y[idx[2]]\n",
    "                \n",
    "                xmin=str(xmin)\n",
    "                ymin=str(ymin)\n",
    "                xmax=str(xmax)\n",
    "                ymax=str(ymax)\n",
    "                x1=str(x1)\n",
    "                x2=str(x2)\n",
    "                x3=str(x3)\n",
    "                x4=str(x4)\n",
    "                y1=str(y1)\n",
    "                y2=str(y2)\n",
    "                y3=str(y3)\n",
    "                y4=str(y4)\n",
    "                content=bbs[8]\n",
    "                #print(content)\n",
    "                content=''.join(ch for ch in content if ch.isalnum())\n",
    "                content=content.upper()\n",
    "                if content=='':\n",
    "                    content='###'\n",
    "                    difficult='0'\n",
    "                else:\n",
    "                    difficult='0'\n",
    "                object_node=doc.createElement('object')\n",
    "                root_node.appendChild(object_node)\n",
    "                name_node=doc.createElement('name')\n",
    "                name_value=doc.createTextNode('text')\n",
    "                name_node.appendChild(name_value)\n",
    "                content_node=doc.createElement('content')\n",
    "                content_value=doc.createTextNode(content)\n",
    "                content_node.appendChild(content_value)\n",
    "                difficult_node=doc.createElement('difficult')\n",
    "                difficult_value=doc.createTextNode(difficult)\n",
    "                difficult_node.appendChild(difficult_value)\n",
    "                bndbox_node=doc.createElement('bndbox')\n",
    "                object_node.appendChild(bndbox_node)\n",
    "                x1_node=doc.createElement('x1')\n",
    "                x1_value=doc.createTextNode(x1)\n",
    "                x1_node.appendChild(x1_value)\n",
    "                y1_node=doc.createElement('y1')\n",
    "                y1_value=doc.createTextNode(y1)\n",
    "                y1_node.appendChild(y1_value)\n",
    "                x2_node=doc.createElement('x2')\n",
    "                x2_value=doc.createTextNode(x2)\n",
    "                x2_node.appendChild(x2_value)\n",
    "                y2_node=doc.createElement('y2')\n",
    "                y2_value=doc.createTextNode(y2)\n",
    "                y2_node.appendChild(y2_value)\n",
    "                x3_node=doc.createElement('x3')\n",
    "                x3_value=doc.createTextNode(x3)\n",
    "                x3_node.appendChild(x3_value)\n",
    "                y3_node=doc.createElement('y3')\n",
    "                y3_value=doc.createTextNode(y3)\n",
    "                y3_node.appendChild(y3_value)\n",
    "                x4_node=doc.createElement('x4')\n",
    "                x4_value=doc.createTextNode(x4)\n",
    "                x4_node.appendChild(x4_value)\n",
    "                y4_node=doc.createElement('y4')\n",
    "                y4_value=doc.createTextNode(y4)\n",
    "                y4_node.appendChild(y4_value)\n",
    "                xmin_node=doc.createElement('xmin')\n",
    "                xmin_value=doc.createTextNode(xmin)\n",
    "                xmin_node.appendChild(xmin_value)\n",
    "                ymin_node=doc.createElement('ymin')\n",
    "                ymin_value=doc.createTextNode(ymin)\n",
    "                ymin_node.appendChild(ymin_value)\n",
    "                xmax_node=doc.createElement('xmax')\n",
    "                xmax_value=doc.createTextNode(xmax)\n",
    "                xmax_node.appendChild(xmax_value)\n",
    "                ymax_node=doc.createElement('ymax')\n",
    "                ymax_value=doc.createTextNode(ymax)\n",
    "                ymax_node.appendChild(ymax_value)\n",
    "                bndbox_node.appendChild(x1_node)\n",
    "                bndbox_node.appendChild(y1_node)\n",
    "                bndbox_node.appendChild(x2_node)\n",
    "                bndbox_node.appendChild(y2_node)\n",
    "                bndbox_node.appendChild(x3_node)\n",
    "                bndbox_node.appendChild(y3_node)\n",
    "                bndbox_node.appendChild(x4_node)\n",
    "                bndbox_node.appendChild(y4_node)\n",
    "                bndbox_node.appendChild(xmin_node)\n",
    "                bndbox_node.appendChild(ymin_node)\n",
    "                bndbox_node.appendChild(xmax_node)\n",
    "                bndbox_node.appendChild(ymax_node)\n",
    "                object_node.appendChild(difficult_node)\n",
    "                object_node.appendChild(content_node)\n",
    "                object_node.appendChild(name_node)\n",
    "                object_node.appendChild(bndbox_node)\n",
    "                count=count+1\n",
    "            root_node.appendChild(folder_node)\n",
    "            root_node.appendChild(filename_node)\n",
    "            root_node.appendChild(size_node)\n",
    "            for i in range(0,count): \n",
    "                root_node.appendChild(object_node)\n",
    "            if count>0:\n",
    "                xml_file_path=save_dir+image_name[0:len(image_name)-4]+'.xml'\n",
    "                f = open(xml_file_path, 'w+') \n",
    "                f.write(doc.toprettyxml(indent = \"\\t\", newl = \"\\n\", encoding = \"utf-8\")) \n",
    "                f.close()\n",
    "                generate_list.write(image_path+' '+xml_file_path+'\\n')\n",
    "                #train_list.write(image_path+'\\n')\n",
    "                #test_list.write(xml_file_path+'\\n')\n",
    "\n",
    "            label.close()\n",
    "    generate_list.close()"
   ]
  },
  {
   "cell_type": "code",
   "execution_count": 8,
   "metadata": {},
   "outputs": [],
   "source": [
    "#creat train data\n",
    "root_dir=''\n",
    "save_dir=\"xml_9000/\"\n",
    "generate_file=\"train.txt\"\n",
    "img_dir='image_9000/'\n",
    "txt_dir='txt_9000/'\n",
    "create_xml_rotated_icdar13_train(root_dir, save_dir, generate_file,img_dir,txt_dir)"
   ]
  },
  {
   "cell_type": "code",
   "execution_count": 15,
   "metadata": {},
   "outputs": [
    {
     "ename": "KeyboardInterrupt",
     "evalue": "",
     "output_type": "error",
     "traceback": [
      "\u001b[0;31m---------------------------------------------------------------------------\u001b[0m",
      "\u001b[0;31mKeyboardInterrupt\u001b[0m                         Traceback (most recent call last)",
      "\u001b[0;32m<ipython-input-15-249b0373369d>\u001b[0m in \u001b[0;36m<module>\u001b[0;34m()\u001b[0m\n\u001b[1;32m      5\u001b[0m \u001b[0mimg_dir\u001b[0m\u001b[0;34m=\u001b[0m\u001b[0;34m'image_1000/'\u001b[0m\u001b[0;34m\u001b[0m\u001b[0m\n\u001b[1;32m      6\u001b[0m \u001b[0mtxt_dir\u001b[0m\u001b[0;34m=\u001b[0m\u001b[0;34m'txt_1000/'\u001b[0m\u001b[0;34m\u001b[0m\u001b[0m\n\u001b[0;32m----> 7\u001b[0;31m \u001b[0mcreate_xml_rotated_icdar13_train\u001b[0m\u001b[0;34m(\u001b[0m\u001b[0mroot_dir\u001b[0m\u001b[0;34m,\u001b[0m \u001b[0msave_dir\u001b[0m\u001b[0;34m,\u001b[0m \u001b[0mgenerate_file\u001b[0m\u001b[0;34m,\u001b[0m\u001b[0mimg_dir\u001b[0m\u001b[0;34m,\u001b[0m\u001b[0mtxt_dir\u001b[0m\u001b[0;34m)\u001b[0m\u001b[0;34m\u001b[0m\u001b[0m\n\u001b[0m",
      "\u001b[0;32m<ipython-input-13-fe276ac928b0>\u001b[0m in \u001b[0;36mcreate_xml_rotated_icdar13_train\u001b[0;34m(root_dir, save_dir, generate_file, img_dir, txt_dir)\u001b[0m\n\u001b[1;32m     42\u001b[0m             \u001b[0mfirst_line\u001b[0m\u001b[0;34m=\u001b[0m\u001b[0mTrue\u001b[0m\u001b[0;34m\u001b[0m\u001b[0m\n\u001b[1;32m     43\u001b[0m             \u001b[0mcount\u001b[0m\u001b[0;34m=\u001b[0m\u001b[0;36m0\u001b[0m\u001b[0;34m\u001b[0m\u001b[0m\n\u001b[0;32m---> 44\u001b[0;31m             \u001b[0;32mfor\u001b[0m \u001b[0mline\u001b[0m \u001b[0;32min\u001b[0m \u001b[0mlabel\u001b[0m\u001b[0;34m.\u001b[0m\u001b[0mreadlines\u001b[0m\u001b[0;34m(\u001b[0m\u001b[0;34m)\u001b[0m\u001b[0;34m:\u001b[0m\u001b[0;34m\u001b[0m\u001b[0m\n\u001b[0m\u001b[1;32m     45\u001b[0m                 \u001b[0;32mif\u001b[0m \u001b[0mfirst_line\u001b[0m\u001b[0;34m:\u001b[0m\u001b[0;34m\u001b[0m\u001b[0m\n\u001b[1;32m     46\u001b[0m                     \u001b[0mline\u001b[0m\u001b[0;34m=\u001b[0m\u001b[0mline\u001b[0m\u001b[0;34m.\u001b[0m\u001b[0mdecode\u001b[0m\u001b[0;34m(\u001b[0m\u001b[0;34m'utf-8-sig'\u001b[0m\u001b[0;34m)\u001b[0m\u001b[0;34m.\u001b[0m\u001b[0mstrip\u001b[0m\u001b[0;34m(\u001b[0m\u001b[0;34m)\u001b[0m\u001b[0;34m\u001b[0m\u001b[0m\n",
      "\u001b[0;31mKeyboardInterrupt\u001b[0m: "
     ]
    }
   ],
   "source": [
    "#creat test data\n",
    "root_dir=''\n",
    "save_dir=\"xml_1000/\"\n",
    "generate_file=\"test.txt\"\n",
    "img_dir='image_1000/'\n",
    "txt_dir='txt_1000/'\n",
    "create_xml_rotated_icdar13_train(root_dir, save_dir, generate_file,img_dir,txt_dir)"
   ]
  },
  {
   "cell_type": "code",
   "execution_count": 47,
   "metadata": {},
   "outputs": [
    {
     "name": "stdout",
     "output_type": "stream",
     "text": [
      "diff 7384\n",
      "easy 14794\n"
     ]
    }
   ],
   "source": [
    "root_dir=''\n",
    "img_dir='image_1000/'\n",
    "txt_dir='txt_1000/'\n",
    "diff_count(root_dir,img_dir,txt_dir)"
   ]
  },
  {
   "cell_type": "code",
   "execution_count": 48,
   "metadata": {},
   "outputs": [
    {
     "name": "stdout",
     "output_type": "stream",
     "text": [
      "diff 52961\n",
      "easy 124725\n"
     ]
    }
   ],
   "source": [
    "root_dir=''\n",
    "img_dir='image_9000/'\n",
    "txt_dir='txt_9000/'\n",
    "diff_count(root_dir,img_dir,txt_dir)"
   ]
  },
  {
   "cell_type": "code",
   "execution_count": 52,
   "metadata": {},
   "outputs": [
    {
     "data": {
      "image/png": "[encoded data removed]",
      "text/plain": [
       "<Figure size 432x288 with 1 Axes>"
      ]
     },
     "metadata": {},
     "output_type": "display_data"
    }
   ],
   "source": [
    "root_dir=''\n",
    "img_dir='image_1000/'\n",
    "txt_dir='txt_1000/'\n",
    "angle=rota_count(root_dir,img_dir,txt_dir)\n",
    "# 1、直方图\n",
    "fig = plt.figure()\n",
    "ax = fig.add_subplot(111)\n",
    "ax.hist(angle, bins=5,normed=1)\n",
    "plt.title('Angle distribution')\n",
    "plt.xlabel('Angle')\n",
    "plt.ylabel('Numbers')\n",
    "plt.show()"
   ]
  },
  {
   "cell_type": "code",
   "execution_count": 53,
   "metadata": {},
   "outputs": [],
   "source": [
    "root_dir=''\n",
    "img_dir='image_9000/'\n",
    "txt_dir='txt_9000/'\n",
    "angle=rota_count(root_dir,img_dir,txt_dir)"
   ]
  },
  {
   "cell_type": "code",
   "execution_count": 55,
   "metadata": {},
   "outputs": [
    {
     "data": {
      "image/png": "[encoded data removed]",
      "text/plain": [
       "<Figure size 432x288 with 1 Axes>"
      ]
     },
     "metadata": {},
     "output_type": "display_data"
    }
   ],
   "source": [
    "# 1、直方图\n",
    "fig = plt.figure()\n",
    "ax = fig.add_subplot(111)\n",
    "ax.hist(angle, bins=20,normed=1)\n",
    "plt.title('Angle distribution')\n",
    "plt.xlabel('Angle')\n",
    "plt.ylabel('Numbers')\n",
    "plt.show()"
   ]
  },
  {
   "cell_type": "code",
   "execution_count": 61,
   "metadata": {},
   "outputs": [
    {
     "data": {
      "image/png": "[encoded data removed]",
      "text/plain": [
       "<Figure size 432x288 with 1 Axes>"
      ]
     },
     "metadata": {},
     "output_type": "display_data"
    }
   ],
   "source": [
    "# 1、直方图\n",
    "fig = plt.figure()\n",
    "ax = fig.add_subplot(111)\n",
    "n,bins,patches=ax.hist(angle, bins=20,normed=0)\n",
    "plt.title('Angle distribution')\n",
    "plt.xlabel('Angle')\n",
    "plt.ylabel('Numbers')\n",
    "plt.show()"
   ]
  },
  {
   "cell_type": "code",
   "execution_count": 62,
   "metadata": {},
   "outputs": [
    {
     "data": {
      "text/plain": [
       "array([ 0.        ,  4.49973243,  8.99946486, 13.49919729, 17.99892971,\n",
       "       22.49866214, 26.99839457, 31.498127  , 35.99785943, 40.49759186,\n",
       "       44.99732429, 49.49705671, 53.99678914, 58.49652157, 62.996254  ,\n",
       "       67.49598643, 71.99571886, 76.49545129, 80.99518371, 85.49491614,\n",
       "       89.99464857])"
      ]
     },
     "execution_count": 62,
     "metadata": {},
     "output_type": "execute_result"
    }
   ],
   "source": [
    "bins"
   ]
  },
  {
   "cell_type": "code",
   "execution_count": 63,
   "metadata": {},
   "outputs": [
    {
     "data": {
      "text/plain": [
       "array([29978.,     0.,     0.,     0.,     0.,     0.,     0.,     0.,\n",
       "           0.,     0.,  7353.,     0.,     0.,     0.,  9782., 10552.,\n",
       "       12084., 23137., 42263., 42537.])"
      ]
     },
     "execution_count": 63,
     "metadata": {},
     "output_type": "execute_result"
    }
   ],
   "source": [
    "n"
   ]
  },
  {
   "cell_type": "code",
   "execution_count": 64,
   "metadata": {},
   "outputs": [
    {
     "data": {
      "text/plain": [
       "177686.0"
      ]
     },
     "execution_count": 64,
     "metadata": {},
     "output_type": "execute_result"
    }
   ],
   "source": [
    "np.sum(n)"
   ]
  },
  {
   "cell_type": "code",
   "execution_count": 67,
   "metadata": {},
   "outputs": [
    {
     "data": {
      "text/plain": [
       "array([0.16871335, 0.        , 0.        , 0.        , 0.        ,\n",
       "       0.        , 0.        , 0.        , 0.        , 0.        ,\n",
       "       0.04138199, 0.        , 0.        , 0.        , 0.05505217,\n",
       "       0.05938566, 0.06800761, 0.13021285, 0.23785217, 0.23939421])"
      ]
     },
     "execution_count": 67,
     "metadata": {},
     "output_type": "execute_result"
    }
   ],
   "source": [
    "(n/np.sum(n))"
   ]
  },
  {
   "cell_type": "code",
   "execution_count": 7,
   "metadata": {},
   "outputs": [
    {
     "data": {
      "image/png": "[encoded data removed]",
      "text/plain": [
       "<Figure size 432x288 with 1 Axes>"
      ]
     },
     "metadata": {},
     "output_type": "display_data"
    }
   ],
   "source": [
    "root_dir=''\n",
    "img_dir='image_1000/'\n",
    "txt_dir='txt_1000/'\n",
    "angle=ar_count(root_dir,img_dir,txt_dir)\n",
    "# 1、直方图\n",
    "fig = plt.figure()\n",
    "ax = fig.add_subplot(111)\n",
    "n,bins,patches=ax.hist(angle, bins=50,normed=0)\n",
    "plt.title('aspect_ratios distribution')\n",
    "plt.xlabel('aspect_ratios')\n",
    "plt.ylabel('Numbers')\n",
    "plt.show()"
   ]
  },
  {
   "cell_type": "code",
   "execution_count": 8,
   "metadata": {},
   "outputs": [
    {
     "data": {
      "text/plain": [
       "array([ 1.  ,  2.41,  3.82,  5.23,  6.64,  8.05,  9.46, 10.87, 12.28,\n",
       "       13.69, 15.1 , 16.51, 17.92, 19.33, 20.74, 22.15, 23.56, 24.97,\n",
       "       26.38, 27.79, 29.2 , 30.61, 32.02, 33.43, 34.84, 36.25, 37.66,\n",
       "       39.07, 40.48, 41.89, 43.3 , 44.71, 46.12, 47.53, 48.94, 50.35,\n",
       "       51.76, 53.17, 54.58, 55.99, 57.4 , 58.81, 60.22, 61.63, 63.04,\n",
       "       64.45, 65.86, 67.27, 68.68, 70.09, 71.5 ])"
      ]
     },
     "execution_count": 8,
     "metadata": {},
     "output_type": "execute_result"
    }
   ],
   "source": [
    "bins"
   ]
  },
  {
   "cell_type": "code",
   "execution_count": 9,
   "metadata": {},
   "outputs": [
    {
     "data": {
      "image/png": "[encoded data removed]",
      "text/plain": [
       "<Figure size 432x288 with 1 Axes>"
      ]
     },
     "metadata": {},
     "output_type": "display_data"
    }
   ],
   "source": [
    "root_dir=''\n",
    "img_dir='image_9000/'\n",
    "txt_dir='txt_9000/'\n",
    "angle=ar_count(root_dir,img_dir,txt_dir)\n",
    "# 1、直方图\n",
    "fig = plt.figure()\n",
    "ax = fig.add_subplot(111)\n",
    "n,bins,patches=ax.hist(angle, bins=50,normed=0)\n",
    "plt.title('aspect_ratios distribution')\n",
    "plt.xlabel('aspect_ratios')\n",
    "plt.ylabel('Numbers')\n",
    "plt.show()"
   ]
  },
  {
   "cell_type": "code",
   "execution_count": 31,
   "metadata": {},
   "outputs": [
    {
     "data": {
      "image/png": "[encoded data removed]",
      "text/plain": [
       "<Figure size 432x288 with 1 Axes>"
      ]
     },
     "metadata": {},
     "output_type": "display_data"
    }
   ],
   "source": [
    "angle=np.array(angle)\n",
    "mask=angle<10\n",
    "angle_mask=angle*mask\n",
    "fig = plt.figure()\n",
    "ax = fig.add_subplot(111)\n",
    "n,bins,patches=ax.hist(angle_mask, bins=10,normed=0)\n",
    "plt.title('aspect_ratios distribution')\n",
    "plt.xlabel('aspect_ratios')\n",
    "plt.ylabel('Numbers')\n",
    "plt.show()"
   ]
  },
  {
   "cell_type": "code",
   "execution_count": 29,
   "metadata": {},
   "outputs": [
    {
     "data": {
      "text/plain": [
       "array([ 0.        ,  0.99946787,  1.99893574,  2.99840361,  3.99787148,\n",
       "        4.99733935,  5.99680722,  6.99627508,  7.99574295,  8.99521082,\n",
       "        9.99467869, 10.99414656, 11.99361443, 12.9930823 , 13.99255017,\n",
       "       14.99201804, 15.99148591, 16.99095378, 17.99042165, 18.98988952,\n",
       "       19.98935739, 20.98882525, 21.98829312, 22.98776099, 23.98722886,\n",
       "       24.98669673, 25.9861646 , 26.98563247, 27.98510034, 28.98456821,\n",
       "       29.98403608, 30.98350395, 31.98297182, 32.98243969, 33.98190756,\n",
       "       34.98137542, 35.98084329, 36.98031116, 37.97977903, 38.9792469 ,\n",
       "       39.97871477, 40.97818264, 41.97765051, 42.97711838, 43.97658625,\n",
       "       44.97605412, 45.97552199, 46.97498986, 47.97445772, 48.97392559,\n",
       "       49.97339346])"
      ]
     },
     "execution_count": 29,
     "metadata": {},
     "output_type": "execute_result"
    }
   ],
   "source": [
    "bins"
   ]
  },
  {
   "cell_type": "code",
   "execution_count": 30,
   "metadata": {},
   "outputs": [
    {
     "data": {
      "text/plain": [
       "array([1.4900e+02, 4.6664e+04, 2.9770e+04, 2.4911e+04, 2.1224e+04,\n",
       "       1.3113e+04, 9.6610e+03, 7.3810e+03, 5.4920e+03, 4.0230e+03,\n",
       "       3.0320e+03, 2.2840e+03, 1.7700e+03, 1.5090e+03, 1.1130e+03,\n",
       "       9.2100e+02, 6.8300e+02, 5.9600e+02, 5.2800e+02, 4.3500e+02,\n",
       "       3.1300e+02, 2.7700e+02, 2.6200e+02, 2.0400e+02, 1.7800e+02,\n",
       "       1.5800e+02, 1.1800e+02, 1.0100e+02, 1.0100e+02, 7.3000e+01,\n",
       "       7.6000e+01, 7.1000e+01, 5.8000e+01, 5.1000e+01, 4.8000e+01,\n",
       "       3.3000e+01, 4.1000e+01, 2.7000e+01, 2.2000e+01, 3.0000e+01,\n",
       "       3.0000e+01, 3.0000e+01, 1.2000e+01, 2.3000e+01, 1.8000e+01,\n",
       "       1.7000e+01, 1.0000e+01, 1.3000e+01, 1.7000e+01, 1.5000e+01])"
      ]
     },
     "execution_count": 30,
     "metadata": {},
     "output_type": "execute_result"
    }
   ],
   "source": [
    "n"
   ]
  },
  {
   "cell_type": "code",
   "execution_count": 26,
   "metadata": {},
   "outputs": [],
   "source": [
    "a=np.array([1,2,34,5,6])"
   ]
  },
  {
   "cell_type": "code",
   "execution_count": 27,
   "metadata": {},
   "outputs": [
    {
     "data": {
      "text/plain": [
       "array([ True,  True, False, False, False])"
      ]
     },
     "execution_count": 27,
     "metadata": {},
     "output_type": "execute_result"
    }
   ],
   "source": [
    "mask=a<5\n",
    "mask"
   ]
  },
  {
   "cell_type": "code",
   "execution_count": null,
   "metadata": {},
   "outputs": [],
   "source": []
  }
 ],
 "metadata": {
  "kernelspec": {
   "display_name": "Python 3",
   "language": "python",
   "name": "python3"
  },
  "language_info": {
   "codemirror_mode": {
    "name": "ipython",
    "version": 2
   },
   "file_extension": ".py",
   "mimetype": "text/x-python",
   "name": "python",
   "nbconvert_exporter": "python",
   "pygments_lexer": "ipython2",
   "version": "2.7.12"
  }
 },
 "nbformat": 4,
 "nbformat_minor": 2
}
